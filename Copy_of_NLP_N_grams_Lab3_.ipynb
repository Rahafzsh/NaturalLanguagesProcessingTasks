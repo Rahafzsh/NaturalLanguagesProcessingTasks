{
  "cells": [
    {
      "cell_type": "markdown",
      "metadata": {
        "id": "oPUF9Kqx9IdA"
      },
      "source": [
        "# N-Grams"
      ]
    },
    {
      "cell_type": "markdown",
      "metadata": {
        "id": "orx21xqF9IdG"
      },
      "source": [
        "It's a probabilistic model that's trained on a corpus of text. Such a model is useful in many NLP applications including speech recognition, machine translation and predictive text input. An N-gram model is built by counting how often word sequences occur in corpus text and then estimating the probabilities."
      ]
    },
    {
      "cell_type": "markdown",
      "metadata": {
        "id": "ISf3nIYv9IdH"
      },
      "source": [
        "## Types of N-Grams"
      ]
    },
    {
      "cell_type": "markdown",
      "metadata": {
        "id": "94g9Es879IdI"
      },
      "source": [
        "![OIP.jpg](data:image/jpeg;base64,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)"
      ]
    },
    {
      "cell_type": "markdown",
      "metadata": {
        "id": "dyJ58BV89IdJ"
      },
      "source": [
        "## Use-cases of N-Grams"
      ]
    },
    {
      "cell_type": "markdown",
      "metadata": {
        "id": "4VATbR6M9IdJ"
      },
      "source": [
        "- Auto completion of sentences\n",
        "- Auto spell check\n",
        "- Voice-based personal assistant bots"
      ]
    },
    {
      "cell_type": "markdown",
      "metadata": {
        "id": "oUkoFzy99IdK"
      },
      "source": [
        "## Unigram"
      ]
    },
    {
      "cell_type": "markdown",
      "metadata": {
        "id": "Tg3lviUD9IdL"
      },
      "source": [
        "**Unigram** an n-gram consisting of a single item from a sequence.\n",
        "\n",
        "- It is commonly used to calculate the probability of finding a word in an article.\n",
        "\n",
        "$ count of (A) \\div corpus length $"
      ]
    },
    {
      "cell_type": "code",
      "execution_count": null,
      "metadata": {
        "id": "OJoAAFAa9IdM",
        "outputId": "e47fda4d-6147-4880-96ee-5f4d3bb25e41"
      },
      "outputs": [
        {
          "name": "stdout",
          "output_type": "stream",
          "text": [
            "('moses',)\n",
            "('supposes',)\n",
            "('his',)\n",
            "('toeses',)\n",
            "('are',)\n",
            "('roses',)\n",
            "('but',)\n",
            "('moses',)\n",
            "('supposes',)\n",
            "('erroneously',)\n"
          ]
        }
      ],
      "source": [
        "from nltk.util import ngrams\n",
        "from nltk.tokenize import word_tokenize\n",
        "\n",
        "string = \"moses supposes his toeses are roses but moses supposes erroneously\"\n",
        "\n",
        "unigrams = ngrams(word_tokenize(string), 1)\n",
        "\n",
        "for item in unigrams:\n",
        "    print(item)"
      ]
    },
    {
      "cell_type": "markdown",
      "metadata": {
        "id": "BUwYBXlf9IdQ"
      },
      "source": [
        "### Calculating probabilities in unigram models"
      ]
    },
    {
      "cell_type": "code",
      "execution_count": null,
      "metadata": {
        "id": "sKukO4199IdR",
        "outputId": "0f2a56ed-0869-48c9-841a-b7db94152c18"
      },
      "outputs": [
        {
          "data": {
            "text/plain": [
              "[('toeses', 1),\n",
              " ('are', 1),\n",
              " ('roses', 1),\n",
              " ('his', 1),\n",
              " ('but', 1),\n",
              " ('erroneously', 1),\n",
              " ('supposes', 2),\n",
              " ('moses', 2)]"
            ]
          },
          "execution_count": 22,
          "metadata": {},
          "output_type": "execute_result"
        }
      ],
      "source": [
        "### Calculate counts of each word\n",
        "\n",
        "unique_string = set(word_tokenize(string))\n",
        "\n",
        "words_frq = []\n",
        "for uniques in unique_string:\n",
        "    frq = string.count(uniques)\n",
        "    words_frq.append((uniques, frq))\n",
        "\n",
        "words_frq"
      ]
    },
    {
      "cell_type": "code",
      "execution_count": null,
      "metadata": {
        "id": "d61PtLwp9IdS",
        "outputId": "d7e87796-4f12-453b-859e-485646d88228"
      },
      "outputs": [
        {
          "name": "stdout",
          "output_type": "stream",
          "text": [
            "the probabilities are:  [0.015151515151515152, 0.015151515151515152, 0.015151515151515152, 0.015151515151515152, 0.015151515151515152, 0.015151515151515152, 0.030303030303030304, 0.030303030303030304]\n"
          ]
        }
      ],
      "source": [
        "### Calculate probabilities:\n",
        "\n",
        "probab = []\n",
        "\n",
        "for count in range(len(words_frq)):\n",
        "    pro = words_frq[count][1]/len(string)\n",
        "    probab.append(pro)\n",
        "\n",
        "print('the probabilities are: ',probab)"
      ]
    },
    {
      "cell_type": "code",
      "execution_count": null,
      "metadata": {
        "scrolled": true,
        "id": "k1kMReEn9IdT",
        "outputId": "5ecdd021-ff09-498c-b449-e57ea50c91a7"
      },
      "outputs": [
        {
          "data": {
            "text/plain": [
              "[('toeses', 0.015151515151515152),\n",
              " ('are', 0.015151515151515152),\n",
              " ('roses', 0.015151515151515152),\n",
              " ('his', 0.015151515151515152),\n",
              " ('but', 0.015151515151515152),\n",
              " ('erroneously', 0.015151515151515152),\n",
              " ('supposes', 0.030303030303030304),\n",
              " ('moses', 0.030303030303030304)]"
            ]
          },
          "execution_count": 24,
          "metadata": {},
          "output_type": "execute_result"
        }
      ],
      "source": [
        "probabilities = []\n",
        "for i,j in zip(unique_string, probab):\n",
        "    probabilities.append((i,j))\n",
        "probabilities"
      ]
    },
    {
      "cell_type": "markdown",
      "metadata": {
        "id": "F6XT3VD89IdU"
      },
      "source": [
        "## Bigram"
      ]
    },
    {
      "cell_type": "markdown",
      "metadata": {
        "id": "xNGangs59IdV"
      },
      "source": [
        "**Bigram** an n-gram consisting of two items from a sequence\n",
        "- Two words that are used together to mean something specific\n",
        "\n",
        "$ countof(A \\ then \\ B) \\div countof(A) $"
      ]
    },
    {
      "cell_type": "markdown",
      "metadata": {
        "id": "rDbmPitd9IdV"
      },
      "source": [
        "### Method 1"
      ]
    },
    {
      "cell_type": "code",
      "execution_count": null,
      "metadata": {
        "scrolled": true,
        "id": "Bu6W2zb29IdW",
        "outputId": "749d45d1-14aa-4ba3-89d2-d52399384615"
      },
      "outputs": [
        {
          "name": "stdout",
          "output_type": "stream",
          "text": [
            "('moses', 'supposes')\n",
            "('supposes', 'his')\n",
            "('his', 'toeses')\n",
            "('toeses', 'are')\n",
            "('are', 'roses')\n",
            "('roses', 'but')\n",
            "('but', 'moses')\n",
            "('moses', 'supposes')\n",
            "('supposes', 'erroneously')\n"
          ]
        }
      ],
      "source": [
        "import nltk as nl\n",
        "from nltk.tokenize import word_tokenize\n",
        "\n",
        "string = \"moses supposes his toeses are roses but moses supposes erroneously\"\n",
        "\n",
        "bigrams = nl.bigrams(word_tokenize(string))\n",
        "for i in bigrams:\n",
        "    print(i)\n"
      ]
    },
    {
      "cell_type": "markdown",
      "metadata": {
        "id": "iguz7lhZ9IdX"
      },
      "source": [
        "### Method 2"
      ]
    },
    {
      "cell_type": "code",
      "execution_count": null,
      "metadata": {
        "scrolled": false,
        "id": "WUW4Q9HX9IdX",
        "outputId": "49771174-1c1a-411d-ead3-d6d8847bbda2"
      },
      "outputs": [
        {
          "name": "stdout",
          "output_type": "stream",
          "text": [
            "('moses', 'supposes')\n",
            "('supposes', 'his')\n",
            "('his', 'toeses')\n",
            "('toeses', 'are')\n",
            "('are', 'roses')\n",
            "('roses', 'but')\n",
            "('but', 'moses')\n",
            "('moses', 'supposes')\n",
            "('supposes', 'erroneously')\n"
          ]
        }
      ],
      "source": [
        "from nltk.util import ngrams\n",
        "from nltk.tokenize import word_tokenize\n",
        "\n",
        "string = \"moses supposes his toeses are roses but moses supposes erroneously\"\n",
        "\n",
        "bigrams = ngrams(word_tokenize(string),2)\n",
        "\n",
        "for i in bigrams:\n",
        "    print(i)"
      ]
    },
    {
      "cell_type": "markdown",
      "metadata": {
        "id": "e3ovhebx9IdY"
      },
      "source": [
        "# Trigram"
      ]
    },
    {
      "cell_type": "markdown",
      "metadata": {
        "id": "68oM96ZI9IdY"
      },
      "source": [
        "**Trigram** an n-gram consisting of three items of a sequence\n",
        "- Three words that are used together to mean something specific"
      ]
    },
    {
      "cell_type": "markdown",
      "metadata": {
        "id": "cBPPY4Ia9IdZ"
      },
      "source": [
        "### Method 1"
      ]
    },
    {
      "cell_type": "code",
      "execution_count": null,
      "metadata": {
        "id": "erVG0gD39IdZ",
        "outputId": "d068a304-97f4-4418-d6b6-2fa36919df5e"
      },
      "outputs": [
        {
          "name": "stdout",
          "output_type": "stream",
          "text": [
            "('moses', 'supposes', 'his')\n",
            "('supposes', 'his', 'toeses')\n",
            "('his', 'toeses', 'are')\n",
            "('toeses', 'are', 'roses')\n",
            "('are', 'roses', 'but')\n",
            "('roses', 'but', 'moses')\n",
            "('but', 'moses', 'supposes')\n",
            "('moses', 'supposes', 'erroneously')\n"
          ]
        }
      ],
      "source": [
        "import nltk as nl\n",
        "from nltk.tokenize import word_tokenize\n",
        "\n",
        "string = \"moses supposes his toeses are roses but moses supposes erroneously\"\n",
        "\n",
        "trigrams = nl.trigrams(word_tokenize(string))\n",
        "\n",
        "for i in trigrams:\n",
        "    print(i)\n"
      ]
    },
    {
      "cell_type": "markdown",
      "metadata": {
        "id": "uKyURYWK9Ida"
      },
      "source": [
        "### Method 2"
      ]
    },
    {
      "cell_type": "code",
      "execution_count": null,
      "metadata": {
        "scrolled": true,
        "id": "Nk6-AsAm9Idb",
        "outputId": "dfc34de5-d3f5-4366-9713-38415754b956"
      },
      "outputs": [
        {
          "name": "stdout",
          "output_type": "stream",
          "text": [
            "('moses', 'supposes', 'his')\n",
            "('supposes', 'his', 'toeses')\n",
            "('his', 'toeses', 'are')\n",
            "('toeses', 'are', 'roses')\n",
            "('are', 'roses', 'but')\n",
            "('roses', 'but', 'moses')\n",
            "('but', 'moses', 'supposes')\n",
            "('moses', 'supposes', 'erroneously')\n"
          ]
        }
      ],
      "source": [
        "from nltk.util import ngrams\n",
        "from nltk.tokenize import word_tokenize\n",
        "\n",
        "string = \"moses supposes his toeses are roses but moses supposes erroneously\"\n",
        "\n",
        "trigrams = ngrams(word_tokenize(string),3)\n",
        "\n",
        "for i in trigrams:\n",
        "    print(i)\n"
      ]
    },
    {
      "cell_type": "markdown",
      "metadata": {
        "id": "Slokw4LE9Idb"
      },
      "source": [
        "## What is padding in NLP?"
      ]
    },
    {
      "cell_type": "markdown",
      "source": [
        "padding is a technique used to ensure that all input sequences have the same length. This is necessary because neural networks require inputs that have the same shape and size. However, when we pre-process and use texts as inputs for our model, not all sentences have the same length. In other words, some sentences are longer or shorter than others. We need to have inputs with the same size, and this is where padding comes in 1."
      ],
      "metadata": {
        "id": "2wjVqCSkJ8-U"
      }
    },
    {
      "cell_type": "markdown",
      "metadata": {
        "id": "mZvGQrlU9Idc"
      },
      "source": [
        "Padding is a special form of masking where the masked steps are at the start or the end of a sequence. Padding comes from the need to encode sequence data into contiguous batches: in order to make all sequences in a batch fit a given standard length.\n",
        "The padding is added before splitting the sentence.\n",
        "\n",
        "n-1 padding is added.\n",
        "\n"
      ]
    },
    {
      "cell_type": "code",
      "execution_count": null,
      "metadata": {
        "id": "TMS69onK9Idc",
        "outputId": "3f12f254-b3f6-45f5-c41f-8b4994263135"
      },
      "outputs": [
        {
          "data": {
            "text/plain": [
              "[('<s>', 'moses'),\n",
              " ('moses', 'supposes'),\n",
              " ('supposes', 'his'),\n",
              " ('his', 'toeses'),\n",
              " ('toeses', 'are'),\n",
              " ('are', 'roses'),\n",
              " ('roses', 'but'),\n",
              " ('but', 'moses'),\n",
              " ('moses', 'supposes'),\n",
              " ('supposes', 'erroneously'),\n",
              " ('erroneously', '</s>')]"
            ]
          },
          "execution_count": 3,
          "metadata": {},
          "output_type": "execute_result"
        }
      ],
      "source": [
        "from nltk.util import ngrams\n",
        "from nltk.tokenize import word_tokenize\n",
        "\n",
        "\n",
        "string = \"moses supposes his toeses are roses but moses supposes erroneously\"\n",
        "\n",
        "list(ngrams(word_tokenize(string), pad_left=True, left_pad_symbol=\"<s>\",\n",
        "                                pad_right=True, right_pad_symbol=\"</s>\", n=2))"
      ]
    },
    {
      "cell_type": "markdown",
      "metadata": {
        "id": "ZIW9oR4G9Idd"
      },
      "source": [
        "Alternatively, We can get rid of the parameters by using\n",
        "> pad_both_ends method in NLTK\n",
        "\n",
        "**Note the n argument, that tells the function we need padding for bigrams.**"
      ]
    },
    {
      "cell_type": "code",
      "execution_count": null,
      "metadata": {
        "scrolled": true,
        "id": "nRo0nBxm9Ide",
        "outputId": "e76fba87-926e-4015-c104-a2e46c3b8f1f"
      },
      "outputs": [
        {
          "data": {
            "text/plain": [
              "[('<s>', 'moses'),\n",
              " ('moses', 'supposes'),\n",
              " ('supposes', 'his'),\n",
              " ('his', 'toeses'),\n",
              " ('toeses', 'are'),\n",
              " ('are', 'roses'),\n",
              " ('roses', 'but'),\n",
              " ('but', 'moses'),\n",
              " ('moses', 'supposes'),\n",
              " ('supposes', 'erroneously'),\n",
              " ('erroneously', '</s>')]"
            ]
          },
          "execution_count": 5,
          "metadata": {},
          "output_type": "execute_result"
        }
      ],
      "source": [
        "from nltk.lm.preprocessing import pad_both_ends\n",
        "from nltk.util import ngrams\n",
        "from nltk.tokenize import word_tokenize\n",
        "\n",
        "string = \"moses supposes his toeses are roses but moses supposes erroneously\"\n",
        "\n",
        "list(ngrams(pad_both_ends(word_tokenize(string), n=2), n=2))\n"
      ]
    },
    {
      "cell_type": "markdown",
      "metadata": {
        "id": "-vPMpEH19Idf"
      },
      "source": [
        "### Training the Maximum Likelihood Model"
      ]
    },
    {
      "cell_type": "markdown",
      "metadata": {
        "id": "32P4neUg9Idf"
      },
      "source": [
        "Maximum likelihood estimation estimates the model parameters such that the probability is maximized.\n",
        "\n",
        "- Get the requisite n_grams frequency counts from a corpus.\n",
        "\n",
        "- Normalize them to a 0-1 range.\n",
        "\n",
        "- Build the vocabulary: to create this vocabulary we need to pad our sentences (just like for counting ngrams) and then combine the sentences into one flat stream of words.\n",
        "\n",
        "\n",
        "To do the above steps, we need to create and Ngram and add the padding then flatten the list. All these steps are requested for pre-processing to train the MLE model. However, we can use padded_everygram_pipeline() in NLTK to do all the steps in one call.\n",
        "\n",
        "\n",
        "**References:**\n",
        "\n",
        "https://www.nltk.org/api/nltk.lm.html\n",
        "\n",
        "https://www.kaggle.com/code/alvations/n-gram-language-model-with-nltk"
      ]
    },
    {
      "cell_type": "code",
      "execution_count": null,
      "metadata": {
        "id": "2Bghkhcu9Idg"
      },
      "outputs": [],
      "source": [
        "from nltk.lm.preprocessing import padded_everygram_pipeline\n",
        "from nltk.util import ngrams\n",
        "from nltk.tokenize import word_tokenize\n",
        "from nltk.lm import smoothing\n",
        "\n",
        "string = \"moses supposes his toeses are roses but moses supposes erroneously\"\n",
        "\n",
        "#Create Bigram Language Model\n",
        "train, vocab = padded_everygram_pipeline(2, [word_tokenize(string)])"
      ]
    },
    {
      "cell_type": "code",
      "execution_count": null,
      "metadata": {
        "id": "JIfUTd1R9Idi",
        "outputId": "38ec745f-7b12-4ce6-a214-a1b14d7e17eb"
      },
      "outputs": [
        {
          "name": "stdout",
          "output_type": "stream",
          "text": [
            "<Vocabulary with cutoff=1 unk_label='<UNK>' and 11 items>\n",
            "11\n"
          ]
        }
      ],
      "source": [
        "from nltk.lm import MLE\n",
        "lm = MLE(2)\n",
        "lm.fit(train, vocab) #Train the Maximum Likelihood Model\n",
        "print(lm.vocab)\n",
        "print(len(lm.vocab))"
      ]
    },
    {
      "cell_type": "code",
      "execution_count": null,
      "metadata": {
        "id": "ohl9CDyo9Idi",
        "outputId": "b5185603-35f8-4cb8-8134-6119bf365bfc"
      },
      "outputs": [
        {
          "data": {
            "text/plain": [
              "('moses', 'supposes')"
            ]
          },
          "execution_count": 210,
          "metadata": {},
          "output_type": "execute_result"
        }
      ],
      "source": [
        "lm.vocab.lookup(['moses','supposes'])"
      ]
    },
    {
      "cell_type": "code",
      "execution_count": null,
      "metadata": {
        "id": "FWJZuCOx9Idj",
        "outputId": "75ccb12d-30df-40bf-979f-f2640b8e6743"
      },
      "outputs": [
        {
          "data": {
            "text/plain": [
              "('moses',)"
            ]
          },
          "execution_count": 211,
          "metadata": {},
          "output_type": "execute_result"
        }
      ],
      "source": [
        "lm.vocab.lookup(['moses'])"
      ]
    },
    {
      "cell_type": "markdown",
      "metadata": {
        "id": "Min88zDh9Idm"
      },
      "source": [
        "### counts for unigrams and bigrams"
      ]
    },
    {
      "cell_type": "code",
      "execution_count": null,
      "metadata": {
        "id": "4LDVSK5e9Idm",
        "outputId": "97d5586a-cd12-4ed1-cecd-8f5f2800fa85"
      },
      "outputs": [
        {
          "name": "stdout",
          "output_type": "stream",
          "text": [
            "2\n",
            "2\n"
          ]
        }
      ],
      "source": [
        "print(lm.counts['moses'])\n",
        "# a then b\n",
        "print(lm.counts[['moses']]['supposes'])"
      ]
    },
    {
      "cell_type": "code",
      "execution_count": null,
      "metadata": {
        "id": "4aHrxF9M9Idn",
        "outputId": "12a81e37-74d7-4168-b958-b40caf60fa5f"
      },
      "outputs": [
        {
          "name": "stdout",
          "output_type": "stream",
          "text": [
            "0.16666666666666666\n"
          ]
        }
      ],
      "source": [
        "print(lm.score('moses')) #Calculate Bigram Probabilities"
      ]
    },
    {
      "cell_type": "markdown",
      "metadata": {
        "id": "V5TtgK8Z9Idn"
      },
      "source": [
        "Here’s how you get the score for a word given some preceding context. For example we want to know what is the chance that “b” is preceded by “a”."
      ]
    },
    {
      "cell_type": "code",
      "execution_count": null,
      "metadata": {
        "id": "LyHTyHk89Ido",
        "outputId": "4282e0b7-23b8-4a45-cdb8-a3d55b3a48e4"
      },
      "outputs": [
        {
          "data": {
            "text/plain": [
              "1.0"
            ]
          },
          "execution_count": 225,
          "metadata": {},
          "output_type": "execute_result"
        }
      ],
      "source": [
        "# b then a\n",
        "lm.score(\"supposes\", [\"moses\"])"
      ]
    },
    {
      "cell_type": "markdown",
      "metadata": {
        "id": "y5VjTaf39Ido"
      },
      "source": [
        "### Evaluating n_grams models using preplexity"
      ]
    },
    {
      "cell_type": "markdown",
      "metadata": {
        "id": "YZ50jfDE9Idp"
      },
      "source": [
        "**Preplexity** is the probability of the test set normalized by the number of words"
      ]
    },
    {
      "cell_type": "code",
      "execution_count": null,
      "metadata": {
        "id": "z47-4y749Idp",
        "outputId": "91bd06b0-c2b3-4907-fb5e-ad398b02246a"
      },
      "outputs": [
        {
          "name": "stdout",
          "output_type": "stream",
          "text": [
            "1.0\n"
          ]
        }
      ],
      "source": [
        "test = [('moses', 'supposes'), ('toeses','are')]\n",
        "print(lm.perplexity(test))"
      ]
    },
    {
      "cell_type": "markdown",
      "metadata": {
        "id": "H-OsCbtJ9Idq"
      },
      "source": [
        "## Task: Generating tweets using n_grams\n",
        "\n",
        "In this Task, we will build a MLE model with n-gram to generate tweets.\n",
        "\n",
        "The agenda is:\n",
        "1. load the data:\n",
        "https://www.kaggle.com/datasets/adizafar/large-random-tweets-from-pakistan\n",
        "\n",
        "2. pre-processing the data:\n",
        "*   Remove hashtags\n",
        "*   Remove RT\n",
        "*   Remove any website\n",
        "*   Remove any mentions\n",
        "\n",
        "\n",
        "\n",
        "\n",
        "3. build MLE model with n-gram\n",
        "4. evaluate the model\n",
        "\n",
        "before we start we need to install library to handle the emojis in tweets\n",
        "> pip install emoji"
      ]
    }
  ],
  "metadata": {
    "kernelspec": {
      "display_name": "Python 3",
      "language": "python",
      "name": "python3"
    },
    "language_info": {
      "codemirror_mode": {
        "name": "ipython",
        "version": 3
      },
      "file_extension": ".py",
      "mimetype": "text/x-python",
      "name": "python",
      "nbconvert_exporter": "python",
      "pygments_lexer": "ipython3",
      "version": "3.8.5"
    },
    "colab": {
      "provenance": []
    }
  },
  "nbformat": 4,
  "nbformat_minor": 0
}